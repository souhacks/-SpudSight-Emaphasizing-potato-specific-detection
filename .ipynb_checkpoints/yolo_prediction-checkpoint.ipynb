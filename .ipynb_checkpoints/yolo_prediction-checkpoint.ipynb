{
 "cells": [
  {
   "cell_type": "code",
   "execution_count": 1,
   "id": "cdc4b435-09df-4243-b838-c0bbe7aa7a78",
   "metadata": {},
   "outputs": [
    {
     "name": "stderr",
     "output_type": "stream",
     "text": [
      "WARNING: You are using pip version 22.0.4; however, version 24.2 is available.\n",
      "You should consider upgrading via the 'C:\\Users\\cdac\\Documents\\yolo_object_detection\\notes\\yolo_venv\\Scripts\\python.exe -m pip install --upgrade pip' command.\n"
     ]
    },
    {
     "name": "stdout",
     "output_type": "stream",
     "text": [
      "Requirement already satisfied: PyYAML in c:\\users\\cdac\\documents\\yolo_object_detection\\notes\\yolo_venv\\lib\\site-packages (6.0.2)\n"
     ]
    }
   ],
   "source": [
    "!pip install PyYAML"
   ]
  },
  {
   "cell_type": "code",
   "execution_count": 1,
   "id": "31dd2a75-670a-4243-a398-3f344f1528bb",
   "metadata": {},
   "outputs": [],
   "source": [
    "import cv2\n",
    "import numpy as np\n",
    "import os\n",
    "import yaml\n",
    "from yaml.loader import SafeLoader"
   ]
  },
  {
   "cell_type": "code",
   "execution_count": 2,
   "id": "f15104a5-4919-47de-91bd-88ce1fd12996",
   "metadata": {},
   "outputs": [
    {
     "name": "stdout",
     "output_type": "stream",
     "text": [
      "['potato_leaf', 'potato_plant']\n"
     ]
    }
   ],
   "source": [
    "# LOAD YAML\n",
    "with open('data.yaml','r') as f:\n",
    "    data_yaml = yaml.load(f, Loader = SafeLoader)\n",
    "\n",
    "labels = data_yaml['names']\n",
    "print(labels)"
   ]
  },
  {
   "cell_type": "code",
   "execution_count": 3,
   "id": "956575b0-8eb6-47e2-857a-106acbdafbab",
   "metadata": {},
   "outputs": [],
   "source": [
    "# load Yolo model:\n",
    "yolo = cv2.dnn.readNetFromONNX('2_Predictions/Model3/weights/best.onnx')\n",
    "yolo.setPreferableBackend(cv2.dnn.DNN_BACKEND_OPENCV)\n",
    "yolo.setPreferableTarget(cv2.dnn.DNN_TARGET_CPU)"
   ]
  },
  {
   "cell_type": "code",
   "execution_count": 4,
   "id": "d5a1f2d4-1ec3-4c2c-a6a8-5716f9930b85",
   "metadata": {},
   "outputs": [],
   "source": [
    "# Load the image\n",
    "img = cv2.imread('2_Predictions/direct_image.jpg')\n",
    "image = img.copy()\n",
    "row, col, d = image.shape\n",
    "\n",
    "# get the YOLO prediction from the image\n",
    "#STEP 1: convert image into sqaure image( array)\n",
    "max_rc = max(row,col)                                        # used to make black square image box\n",
    "input_image = np.zeros((max_rc,max_rc,3),dtype=np.uint8)     # providing the dimensions\n",
    "input_image[0:row,0:col] = image                             # loading our image file on the black image box\n",
    "#STEP 2: get prediction from square array\n",
    "INPUT_WH_YOLO = 640                                          # we train our yolo model with input height and width with 640\n",
    "blob = cv2.dnn.blobFromImage(input_image, 1/255, (INPUT_WH_YOLO, INPUT_WH_YOLO), swapRB=True, crop=False)\n",
    "yolo.setInput(blob)\n",
    "preds = yolo.forward()            # detection and predictons from yolo model\n",
    "\n",
    "# cv2.imshow('input_image',input_image)\n",
    "# cv2.waitKey(0)\n",
    "# cv2.destroyAllWindows()"
   ]
  },
  {
   "cell_type": "code",
   "execution_count": 5,
   "id": "2dbcb453-51fa-48b4-ab7b-a0ea9bb0efd6",
   "metadata": {},
   "outputs": [
    {
     "name": "stdout",
     "output_type": "stream",
     "text": [
      "(1, 25200, 7)\n"
     ]
    }
   ],
   "source": [
    "print(preds.shape)"
   ]
  },
  {
   "cell_type": "code",
   "execution_count": 6,
   "id": "9958c4ac-b79f-49e9-b047-8c380c8a258a",
   "metadata": {},
   "outputs": [
    {
     "data": {
      "text/plain": [
       "array([[[6.6184454e+00, 5.1634750e+00, 2.5009233e+01, ...,\n",
       "         2.3435471e-04, 2.1707638e-01, 4.1409677e-01],\n",
       "        [1.5948895e+01, 4.8956604e+00, 3.2897079e+01, ...,\n",
       "         3.2215289e-04, 1.8964794e-01, 4.3278554e-01],\n",
       "        [2.1903770e+01, 5.5123148e+00, 3.3008503e+01, ...,\n",
       "         1.4573259e-04, 1.9464920e-01, 3.2580304e-01],\n",
       "        ...,\n",
       "        [5.5218536e+02, 6.2111267e+02, 2.3787175e+02, ...,\n",
       "         2.6686047e-03, 4.0790865e-01, 3.0901334e-01],\n",
       "        [5.8319934e+02, 6.2091492e+02, 2.5379662e+02, ...,\n",
       "         2.3806386e-03, 3.8602868e-01, 3.2823312e-01],\n",
       "        [6.1223956e+02, 6.2554382e+02, 2.9183078e+02, ...,\n",
       "         2.2284449e-03, 4.0855801e-01, 3.0264342e-01]]], dtype=float32)"
      ]
     },
     "execution_count": 6,
     "metadata": {},
     "output_type": "execute_result"
    }
   ],
   "source": [
    "preds"
   ]
  },
  {
   "cell_type": "code",
   "execution_count": 19,
   "id": "108deea0-3c0b-4804-8b2a-c94ee4214489",
   "metadata": {},
   "outputs": [],
   "source": [
    "# non Maximum Supression\n",
    "# step-1: filter detection based on confidence (0,4) and probability score (0.25)\n",
    "detections = preds[0]\n",
    "boxes = []\n",
    "confidences = []\n",
    "classes = []\n",
    "\n",
    "#width and height of the image (input_image)\n",
    "image_w, image_h = input_image.shape[:2]\n",
    "x_factor = image_w/INPUT_WH_YOLO\n",
    "y_factor = image_h/INPUT_WH_YOLO\n",
    "\n",
    "for i in range (len(detections)):\n",
    "    row = detections[i]\n",
    "    confidence = row[4] # confidence of detection an object\n",
    "    if confidence > 0.4:\n",
    "        class_score = row[5:].max() # maximum probability from 2 object\n",
    "        class_id = row[5:].argmax() # get the index position at which max probability occur\n",
    "\n",
    "        if class_score > 0.25:\n",
    "            cx, cy, w, h = row[0:4]\n",
    "            # construct bunding from the values\n",
    "            # left top, width and height\n",
    "            left = int((cx -0.5*w)*x_factor)\n",
    "            top = int((cy-0.5*h)*y_factor)\n",
    "            width = int(w*x_factor)\n",
    "            height= int(h*y_factor)\n",
    "\n",
    "            box = np.array([left,top,width,height])\n",
    "\n",
    "            # append values into the list\n",
    "            confidences.append(confidence)\n",
    "            boxes.append(box)\n",
    "            classes.append(class_id)\n",
    "\n",
    "# clean\n",
    "boxes_np = np.array(boxes).tolist()\n",
    "confidences_np = np.array(confidences).tolist()\n",
    "\n",
    "# NMS\n",
    "index = cv2.dnn.NMSBoxes(boxes_np, confidences_np, 0.25, 0.45).flatten()"
   ]
  },
  {
   "cell_type": "code",
   "execution_count": 20,
   "id": "9cd3ad57-ab3a-4ced-b3c2-f042eb5322ce",
   "metadata": {},
   "outputs": [
    {
     "data": {
      "text/plain": [
       "array([4, 6, 0, 8], dtype=int32)"
      ]
     },
     "execution_count": 20,
     "metadata": {},
     "output_type": "execute_result"
    }
   ],
   "source": [
    "index"
   ]
  },
  {
   "cell_type": "code",
   "execution_count": 22,
   "id": "25e48a60-b417-41a5-975a-ac6f064f5f09",
   "metadata": {},
   "outputs": [],
   "source": [
    "# draw the bounding\n",
    "for ind in index:\n",
    "    # extract bounding box\n",
    "    x,y,w,h = boxes_np[ind]\n",
    "    bb_conf = int(confidences_np[ind]*100)\n",
    "    classes_id = classes[ind]\n",
    "    class_name = labels[classes_id]\n",
    "\n",
    "    text = f'{class_name}: {bb_conf}%'\n",
    "\n",
    "    cv2.rectangle(image, (x,y),(x+w, y+h), (0,255,0),2)\n",
    "    cv2.rectangle(image, (x,y-30),(x+w,y),(255,255,255),-1)\n",
    "    cv2.putText(image, text, (x,y-10), cv2.FONT_HERSHEY_PLAIN, 0.7, (0,0,0), 1)"
   ]
  },
  {
   "cell_type": "code",
   "execution_count": 24,
   "id": "fea6409f-d318-422e-8fc0-22c7205c49e3",
   "metadata": {},
   "outputs": [],
   "source": [
    "cv2.imshow('original',img)\n",
    "cv2.imshow('yolo_prediction',image)\n",
    "cv2.waitKey(0)\n",
    "cv2.destroyAllWindows()"
   ]
  }
 ],
 "metadata": {
  "kernelspec": {
   "display_name": "Python 3 (ipykernel)",
   "language": "python",
   "name": "python3"
  },
  "language_info": {
   "codemirror_mode": {
    "name": "ipython",
    "version": 3
   },
   "file_extension": ".py",
   "mimetype": "text/x-python",
   "name": "python",
   "nbconvert_exporter": "python",
   "pygments_lexer": "ipython3",
   "version": "3.9.12"
  }
 },
 "nbformat": 4,
 "nbformat_minor": 5
}
